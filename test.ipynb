{
 "cells": [
  {
   "cell_type": "code",
   "execution_count": 285,
   "metadata": {},
   "outputs": [],
   "source": [
    "import numpy as np\n",
    "\n",
    "def sigmoid(x):\n",
    "    return 1/(1 + np.exp(-x))\n",
    "\n",
    "def softmax(x):\n",
    "    return np.exp(x) / np.sum(np.exp(x)) \n",
    "\n",
    "def relu(x):\n",
    "    return x * (x > 0)"
   ]
  },
  {
   "cell_type": "code",
   "execution_count": 286,
   "metadata": {},
   "outputs": [],
   "source": [
    "def deriv_sigmoid(x):\n",
    "    fx = sigmoid(x)\n",
    "    return fx * (1 - fx)"
   ]
  },
  {
   "cell_type": "code",
   "execution_count": 287,
   "metadata": {},
   "outputs": [],
   "source": [
    "def mse_loss(y_true, y_pred):\n",
    "    return ((y_true - y_pred) ** 2).mean()"
   ]
  },
  {
   "cell_type": "code",
   "execution_count": 288,
   "metadata": {},
   "outputs": [],
   "source": [
    "class Neuron:\n",
    "    def __init__(self, weights, bias):\n",
    "        self.weights = weights\n",
    "        self.bias = bias\n",
    "        \n",
    "    def feedforward(self, inputs, act_type):\n",
    "        total = np.dot(self.weights, inputs) + self.bias\n",
    "        if act_type == 0:\n",
    "            return sigmoid(total)\n",
    "        elif act_type == 1:\n",
    "            return softmax(total)\n",
    "        elif act_type == 2:\n",
    "            return relu(total)"
   ]
  },
  {
   "cell_type": "code",
   "execution_count": 289,
   "metadata": {},
   "outputs": [],
   "source": [
    "class Neural_Net:\n",
    "    def __init__(self, h_num, o_num, i_weights, o_weights, i_bias, o_bias):\n",
    "        self.hidden = []\n",
    "        self.output = []\n",
    "        for i in range(0,h_num):\n",
    "            #print(i_weights[i,:])\n",
    "            self.hidden.append(Neuron(i_weights[i,:], i_bias[i]))\n",
    "        for i in range(0,o_num):\n",
    "            #print(o_weights[i,:])\n",
    "            self.output.append(Neuron(o_weights[i,:], o_bias[i]))\n",
    "        #print(len(self.hidden))\n",
    "        #print(len(self.output))\n",
    "    def feedforward(self, i_data):\n",
    "        o_hidden = []\n",
    "        o_output = []\n",
    "        for i in range(0,len(self.hidden)):\n",
    "            #print(self.hidden[i].feedforward(i_data,0))\n",
    "            o_hidden.append(self.hidden[i].feedforward(i_data,0))\n",
    "        #print(o_hidden)\n",
    "        for i in range(0,len(self.output)):\n",
    "            #print(self.output[i].feedforward(o_hidden,0))\n",
    "            o_output.append(self.output[i].feedforward(o_hidden,0))\n",
    "        return o_output"
   ]
  },
  {
   "cell_type": "code",
   "execution_count": 292,
   "metadata": {},
   "outputs": [
    {
     "data": {
      "text/plain": [
       "array([-1.37045464,  0.18342561])"
      ]
     },
     "execution_count": 292,
     "metadata": {},
     "output_type": "execute_result"
    }
   ],
   "source": [
    "i_weights = np.array([[np.random.normal(),np.random.normal()],[np.random.normal(),np.random.normal()]])\n",
    "o_weights = np.array([[np.random.normal(),np.random.normal()]])\n",
    "i_bias = np.array([np.random.normal(),np.random.normal()]) \n",
    "o_bias = np.array([np.random.normal()])\n",
    "i_data = np.array([2,3])\n",
    "i_weights[0,:]"
   ]
  },
  {
   "cell_type": "code",
   "execution_count": 293,
   "metadata": {},
   "outputs": [],
   "source": [
    "network = Neural_Net(2,1,i_weights,o_weights,i_bias,o_bias)"
   ]
  },
  {
   "cell_type": "code",
   "execution_count": 294,
   "metadata": {},
   "outputs": [
    {
     "name": "stdout",
     "output_type": "stream",
     "text": [
      "[0.5576982142294227]\n"
     ]
    }
   ],
   "source": [
    "print(network.feedforward(i_data))"
   ]
  },
  {
   "cell_type": "code",
   "execution_count": null,
   "metadata": {},
   "outputs": [],
   "source": []
  },
  {
   "cell_type": "code",
   "execution_count": null,
   "metadata": {},
   "outputs": [],
   "source": []
  }
 ],
 "metadata": {
  "kernelspec": {
   "display_name": "Python 3",
   "language": "python",
   "name": "python3"
  },
  "language_info": {
   "codemirror_mode": {
    "name": "ipython",
    "version": 3
   },
   "file_extension": ".py",
   "mimetype": "text/x-python",
   "name": "python",
   "nbconvert_exporter": "python",
   "pygments_lexer": "ipython3",
   "version": "3.7.3"
  }
 },
 "nbformat": 4,
 "nbformat_minor": 2
}
